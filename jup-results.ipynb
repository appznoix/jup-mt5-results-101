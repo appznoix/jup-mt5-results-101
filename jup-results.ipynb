{
 "cells": [
  {
   "cell_type": "markdown",
   "metadata": {},
   "source": [
    "# Resultados de teste do robot Caixote, desde o início do ano"
   ]
  },
  {
   "cell_type": "markdown",
   "metadata": {},
   "source": [
    "Conecta com MetaTrader"
   ]
  },
  {
   "cell_type": "code",
   "execution_count": 15,
   "metadata": {
    "scrolled": true
   },
   "outputs": [
    {
     "name": "stdout",
     "output_type": "stream",
     "text": [
      "MetaTrader5 package author:  MetaQuotes Software Corp.\n",
      "MetaTrader5 package version:  5.0.34\n",
      "\n",
      "Conectado com sucesso\n"
     ]
    }
   ],
   "source": [
    "############################################\n",
    "# Init: setup, imports and connects to MT5 #\n",
    "############################################\n",
    "\n",
    "# específico para jupyter notebook\n",
    "%matplotlib inline \n",
    "#%matplotlib notebook\n",
    "\n",
    "from datetime import datetime\n",
    "import matplotlib.pyplot as plt\n",
    "import pandas as pd\n",
    "\n",
    "from pandas.plotting import register_matplotlib_converters\n",
    "register_matplotlib_converters()\n",
    "\n",
    "import MetaTrader5 as mt5\n",
    "\n",
    "#plt.ion() #descomentar para usar gráficos interativos\n",
    "\n",
    "# configs\n",
    "pd.set_option('display.max_columns', 500) # number of columns to be displayed\n",
    "pd.set_option('display.width', 1500)      # max table width to display\n",
    "# display data on the MetaTrader 5 package // exibe dados do MT5\n",
    "print(\"MetaTrader5 package author: \" ,mt5.__author__)\n",
    "print(\"MetaTrader5 package version: \",mt5.__version__)\n",
    "print()\n",
    "# establish connection to the MetaTrader 5 terminal // tenta conectar com MT5 ou quit\n",
    "if not mt5.initialize():\n",
    "    print(\"initialize() falhou, código de erro =\",mt5.last_error())\n",
    "    quit()\n",
    "print(\"Conectado com sucesso\")"
   ]
  },
  {
   "cell_type": "markdown",
   "metadata": {},
   "source": [
    "## Busca os dados de negociações\n",
    "\n",
    "Define as datas de inicio e fim da busca."
   ]
  },
  {
   "cell_type": "code",
   "execution_count": 16,
   "metadata": {},
   "outputs": [],
   "source": [
    "# get deals from/to dates and show number of deals\n",
    "from_date = datetime(2020, 1, 1) \n",
    "to_date = datetime.now()\n",
    "#to_date = datetime(2021, 5, 5) "
   ]
  },
  {
   "cell_type": "markdown",
   "metadata": {},
   "source": [
    "Realiza consulta de negociações e exibe o número de negócios no período ou mensagem de erro se não achar nada"
   ]
  },
  {
   "cell_type": "code",
   "execution_count": 17,
   "metadata": {},
   "outputs": [
    {
     "name": "stdout",
     "output_type": "stream",
     "text": [
      "Houve 6321 negócios desde 2020-01-01 00:00:00 até 2021-05-27 22:19:43.750172\n"
     ]
    }
   ],
   "source": [
    "deals = mt5.history_deals_get(from_date, to_date) # recebe negócios com datas de from_date até to_date\n",
    "\n",
    "# deals # <-- descomentar para ver os dados raw das operações\n",
    "if deals == None:\n",
    "    print(\"Nenhum negócio encontrado, código de erro={}\" . format(mt5.last_error()))\n",
    "    quit()\n",
    "elif len(deals) > 0:\n",
    "    print(\"Houve\", len(deals), \"negócios desde\",  from_date, \"até\", to_date)"
   ]
  },
  {
   "cell_type": "markdown",
   "metadata": {},
   "source": [
    "Exibe os dados de negociações consultadas"
   ]
  },
  {
   "cell_type": "code",
   "execution_count": 18,
   "metadata": {},
   "outputs": [],
   "source": [
    "# list deals one by own // descomenta as próximas 3 linhas \n",
    "# print(\"Exibindo negócios um a um: \", len(deals))\n",
    "# for deal in deals:\n",
    "#    print(\" \",deal) # mostra cada negócio realizado do jeito que vem"
   ]
  },
  {
   "cell_type": "markdown",
   "metadata": {},
   "source": [
    "Cria o Data Frame"
   ]
  },
  {
   "cell_type": "code",
   "execution_count": 19,
   "metadata": {},
   "outputs": [
    {
     "name": "stdout",
     "output_type": "stream",
     "text": [
      "Cria dataFrame de: 6321 negócios\n"
     ]
    }
   ],
   "source": [
    "# create dataFrame from deals and add some columns\n",
    "print(\"Cria dataFrame de:\", len(deals), \"negócios\")\n",
    "# display these deals as a table using pandas.DataFrame\n",
    "df = pd.DataFrame(list(deals), columns = deals[0]._asdict().keys())"
   ]
  },
  {
   "cell_type": "markdown",
   "metadata": {},
   "source": [
    "Prepara os dados"
   ]
  },
  {
   "cell_type": "code",
   "execution_count": 20,
   "metadata": {},
   "outputs": [],
   "source": [
    "# insert readable datetime column // transforma em data legível\n",
    "df['time'] = pd.to_datetime(df['time'], unit = 's') "
   ]
  },
  {
   "cell_type": "markdown",
   "metadata": {},
   "source": [
    "**Normalizar valores das operações**\n",
    "\n",
    "Se for ação, reduz volume a um lote (100 unidades) e ajusta o valor\n",
    "\n",
    "Se for indice, reduz volume a uma unidade e ajusta o valor\n"
   ]
  },
  {
   "cell_type": "code",
   "execution_count": 21,
   "metadata": {},
   "outputs": [],
   "source": [
    "import numpy as np\n",
    "df['newProfit'] = np.where(df[\"symbol\"].str.slice(0, 3) == \"WIN\", \n",
    "                           df[\"profit\"] / df[\"volume\"], \n",
    "                           df[\"profit\"] / (df[\"volume\"] /100) )"
   ]
  },
  {
   "cell_type": "markdown",
   "metadata": {},
   "source": [
    "Remove colunas não utilizadas"
   ]
  },
  {
   "cell_type": "code",
   "execution_count": 22,
   "metadata": {},
   "outputs": [],
   "source": [
    "# remove unused columns\n",
    "df.drop([\"external_id\", \"magic\", \"swap\", \"commission\", \"fee\", \"price\", \"ticket\", \"order\", \"time_msc\", \"type\", \"entry\", \"position_id\", \"reason\", \"comment\"], inplace=True, axis=1)\n",
    "# DEBUG: mostra resultado #df.head(20)"
   ]
  },
  {
   "cell_type": "markdown",
   "metadata": {},
   "source": [
    "Agrupa e acumula os resultados por ativo "
   ]
  },
  {
   "cell_type": "code",
   "execution_count": 23,
   "metadata": {},
   "outputs": [],
   "source": [
    "df[\"amount\"] = df.groupby([\"symbol\"]).newProfit.cumsum() # acumula profit agrupado por símbolo"
   ]
  },
  {
   "cell_type": "markdown",
   "metadata": {},
   "source": [
    "Debug: Exibe uma amostra dos dados tratados e acumulados para conferência"
   ]
  },
  {
   "cell_type": "code",
   "execution_count": 24,
   "metadata": {},
   "outputs": [
    {
     "data": {
      "text/html": [
       "<div>\n",
       "<style scoped>\n",
       "    .dataframe tbody tr th:only-of-type {\n",
       "        vertical-align: middle;\n",
       "    }\n",
       "\n",
       "    .dataframe tbody tr th {\n",
       "        vertical-align: top;\n",
       "    }\n",
       "\n",
       "    .dataframe thead th {\n",
       "        text-align: right;\n",
       "    }\n",
       "</style>\n",
       "<table border=\"1\" class=\"dataframe\">\n",
       "  <thead>\n",
       "    <tr style=\"text-align: right;\">\n",
       "      <th></th>\n",
       "      <th>time</th>\n",
       "      <th>volume</th>\n",
       "      <th>profit</th>\n",
       "      <th>symbol</th>\n",
       "      <th>newProfit</th>\n",
       "      <th>amount</th>\n",
       "    </tr>\n",
       "  </thead>\n",
       "  <tbody>\n",
       "    <tr>\n",
       "      <th>0</th>\n",
       "      <td>2021-03-02 10:35:11</td>\n",
       "      <td>1.0</td>\n",
       "      <td>0.0</td>\n",
       "      <td>WINJ21</td>\n",
       "      <td>0.0</td>\n",
       "      <td>0.0</td>\n",
       "    </tr>\n",
       "    <tr>\n",
       "      <th>1</th>\n",
       "      <td>2021-03-02 10:35:14</td>\n",
       "      <td>1.0</td>\n",
       "      <td>10.0</td>\n",
       "      <td>WINJ21</td>\n",
       "      <td>10.0</td>\n",
       "      <td>10.0</td>\n",
       "    </tr>\n",
       "    <tr>\n",
       "      <th>2</th>\n",
       "      <td>2021-03-02 10:40:55</td>\n",
       "      <td>100.0</td>\n",
       "      <td>0.0</td>\n",
       "      <td>USIM5</td>\n",
       "      <td>0.0</td>\n",
       "      <td>0.0</td>\n",
       "    </tr>\n",
       "    <tr>\n",
       "      <th>3</th>\n",
       "      <td>2021-03-02 10:44:00</td>\n",
       "      <td>100.0</td>\n",
       "      <td>-1.0</td>\n",
       "      <td>USIM5</td>\n",
       "      <td>-1.0</td>\n",
       "      <td>-1.0</td>\n",
       "    </tr>\n",
       "    <tr>\n",
       "      <th>4</th>\n",
       "      <td>2021-03-02 10:48:40</td>\n",
       "      <td>500.0</td>\n",
       "      <td>0.0</td>\n",
       "      <td>PETR4</td>\n",
       "      <td>0.0</td>\n",
       "      <td>0.0</td>\n",
       "    </tr>\n",
       "    <tr>\n",
       "      <th>5</th>\n",
       "      <td>2021-03-02 10:49:01</td>\n",
       "      <td>500.0</td>\n",
       "      <td>-40.0</td>\n",
       "      <td>PETR4</td>\n",
       "      <td>-8.0</td>\n",
       "      <td>-8.0</td>\n",
       "    </tr>\n",
       "    <tr>\n",
       "      <th>6</th>\n",
       "      <td>2021-03-02 10:49:12</td>\n",
       "      <td>1.0</td>\n",
       "      <td>0.0</td>\n",
       "      <td>WINJ21</td>\n",
       "      <td>0.0</td>\n",
       "      <td>10.0</td>\n",
       "    </tr>\n",
       "    <tr>\n",
       "      <th>7</th>\n",
       "      <td>2021-03-02 10:49:19</td>\n",
       "      <td>1.0</td>\n",
       "      <td>-16.0</td>\n",
       "      <td>WINJ21</td>\n",
       "      <td>-16.0</td>\n",
       "      <td>-6.0</td>\n",
       "    </tr>\n",
       "    <tr>\n",
       "      <th>8</th>\n",
       "      <td>2021-03-02 11:08:41</td>\n",
       "      <td>500.0</td>\n",
       "      <td>0.0</td>\n",
       "      <td>PETR4</td>\n",
       "      <td>0.0</td>\n",
       "      <td>-8.0</td>\n",
       "    </tr>\n",
       "    <tr>\n",
       "      <th>9</th>\n",
       "      <td>2021-03-02 11:10:37</td>\n",
       "      <td>500.0</td>\n",
       "      <td>-40.0</td>\n",
       "      <td>PETR4</td>\n",
       "      <td>-8.0</td>\n",
       "      <td>-16.0</td>\n",
       "    </tr>\n",
       "    <tr>\n",
       "      <th>10</th>\n",
       "      <td>2021-03-02 11:21:16</td>\n",
       "      <td>500.0</td>\n",
       "      <td>0.0</td>\n",
       "      <td>PETR4</td>\n",
       "      <td>0.0</td>\n",
       "      <td>-16.0</td>\n",
       "    </tr>\n",
       "    <tr>\n",
       "      <th>11</th>\n",
       "      <td>2021-03-02 11:21:34</td>\n",
       "      <td>500.0</td>\n",
       "      <td>15.0</td>\n",
       "      <td>PETR4</td>\n",
       "      <td>3.0</td>\n",
       "      <td>-13.0</td>\n",
       "    </tr>\n",
       "    <tr>\n",
       "      <th>12</th>\n",
       "      <td>2021-03-02 11:25:24</td>\n",
       "      <td>100.0</td>\n",
       "      <td>0.0</td>\n",
       "      <td>USIM5</td>\n",
       "      <td>0.0</td>\n",
       "      <td>-1.0</td>\n",
       "    </tr>\n",
       "    <tr>\n",
       "      <th>13</th>\n",
       "      <td>2021-03-02 11:26:54</td>\n",
       "      <td>500.0</td>\n",
       "      <td>0.0</td>\n",
       "      <td>PETR4</td>\n",
       "      <td>0.0</td>\n",
       "      <td>-13.0</td>\n",
       "    </tr>\n",
       "    <tr>\n",
       "      <th>14</th>\n",
       "      <td>2021-03-02 11:28:11</td>\n",
       "      <td>100.0</td>\n",
       "      <td>-8.0</td>\n",
       "      <td>USIM5</td>\n",
       "      <td>-8.0</td>\n",
       "      <td>-9.0</td>\n",
       "    </tr>\n",
       "    <tr>\n",
       "      <th>15</th>\n",
       "      <td>2021-03-02 11:29:09</td>\n",
       "      <td>500.0</td>\n",
       "      <td>-40.0</td>\n",
       "      <td>PETR4</td>\n",
       "      <td>-8.0</td>\n",
       "      <td>-21.0</td>\n",
       "    </tr>\n",
       "    <tr>\n",
       "      <th>16</th>\n",
       "      <td>2021-03-02 11:43:08</td>\n",
       "      <td>500.0</td>\n",
       "      <td>0.0</td>\n",
       "      <td>PETR4</td>\n",
       "      <td>0.0</td>\n",
       "      <td>-21.0</td>\n",
       "    </tr>\n",
       "    <tr>\n",
       "      <th>17</th>\n",
       "      <td>2021-03-02 11:43:14</td>\n",
       "      <td>500.0</td>\n",
       "      <td>15.0</td>\n",
       "      <td>PETR4</td>\n",
       "      <td>3.0</td>\n",
       "      <td>-18.0</td>\n",
       "    </tr>\n",
       "    <tr>\n",
       "      <th>18</th>\n",
       "      <td>2021-03-02 12:11:39</td>\n",
       "      <td>500.0</td>\n",
       "      <td>0.0</td>\n",
       "      <td>VVAR3</td>\n",
       "      <td>0.0</td>\n",
       "      <td>0.0</td>\n",
       "    </tr>\n",
       "    <tr>\n",
       "      <th>19</th>\n",
       "      <td>2021-03-02 12:21:43</td>\n",
       "      <td>500.0</td>\n",
       "      <td>20.0</td>\n",
       "      <td>VVAR3</td>\n",
       "      <td>4.0</td>\n",
       "      <td>4.0</td>\n",
       "    </tr>\n",
       "  </tbody>\n",
       "</table>\n",
       "</div>"
      ],
      "text/plain": [
       "                  time  volume  profit  symbol  newProfit  amount\n",
       "0  2021-03-02 10:35:11     1.0     0.0  WINJ21        0.0     0.0\n",
       "1  2021-03-02 10:35:14     1.0    10.0  WINJ21       10.0    10.0\n",
       "2  2021-03-02 10:40:55   100.0     0.0   USIM5        0.0     0.0\n",
       "3  2021-03-02 10:44:00   100.0    -1.0   USIM5       -1.0    -1.0\n",
       "4  2021-03-02 10:48:40   500.0     0.0   PETR4        0.0     0.0\n",
       "5  2021-03-02 10:49:01   500.0   -40.0   PETR4       -8.0    -8.0\n",
       "6  2021-03-02 10:49:12     1.0     0.0  WINJ21        0.0    10.0\n",
       "7  2021-03-02 10:49:19     1.0   -16.0  WINJ21      -16.0    -6.0\n",
       "8  2021-03-02 11:08:41   500.0     0.0   PETR4        0.0    -8.0\n",
       "9  2021-03-02 11:10:37   500.0   -40.0   PETR4       -8.0   -16.0\n",
       "10 2021-03-02 11:21:16   500.0     0.0   PETR4        0.0   -16.0\n",
       "11 2021-03-02 11:21:34   500.0    15.0   PETR4        3.0   -13.0\n",
       "12 2021-03-02 11:25:24   100.0     0.0   USIM5        0.0    -1.0\n",
       "13 2021-03-02 11:26:54   500.0     0.0   PETR4        0.0   -13.0\n",
       "14 2021-03-02 11:28:11   100.0    -8.0   USIM5       -8.0    -9.0\n",
       "15 2021-03-02 11:29:09   500.0   -40.0   PETR4       -8.0   -21.0\n",
       "16 2021-03-02 11:43:08   500.0     0.0   PETR4        0.0   -21.0\n",
       "17 2021-03-02 11:43:14   500.0    15.0   PETR4        3.0   -18.0\n",
       "18 2021-03-02 12:11:39   500.0     0.0   VVAR3        0.0     0.0\n",
       "19 2021-03-02 12:21:43   500.0    20.0   VVAR3        4.0     4.0"
      ]
     },
     "execution_count": 24,
     "metadata": {},
     "output_type": "execute_result"
    }
   ],
   "source": [
    "#DEBUG: mostra resultado # \n",
    "df.head(20)"
   ]
  },
  {
   "cell_type": "markdown",
   "metadata": {},
   "source": [
    "Agrupa os dados por Ativo e mostra o número de negócios por ativo"
   ]
  },
  {
   "cell_type": "code",
   "execution_count": 28,
   "metadata": {},
   "outputs": [
    {
     "data": {
      "text/plain": [
       "symbol\n",
       "BBAS3      382\n",
       "BBDC3      420\n",
       "CSNA3      410\n",
       "ITSA4      582\n",
       "ITUB3      314\n",
       "PETR4     1350\n",
       "USIM5     1164\n",
       "VALE3      832\n",
       "VVAR3      338\n",
       "WINJ21     343\n",
       "WINM21     186\n",
       "Name: profit, dtype: int64"
      ]
     },
     "execution_count": 28,
     "metadata": {},
     "output_type": "execute_result"
    }
   ],
   "source": [
    "dfg = df.groupby(df.symbol)\n",
    "dfg.count().profit"
   ]
  },
  {
   "cell_type": "code",
   "execution_count": 32,
   "metadata": {},
   "outputs": [],
   "source": [
    "#função que trata o agrupamento\n",
    "def groupSlice( s ):\n",
    "    print(s[:3])\n",
    "    return s[:3]"
   ]
  },
  {
   "cell_type": "code",
   "execution_count": 33,
   "metadata": {},
   "outputs": [
    {
     "name": "stdout",
     "output_type": "stream",
     "text": [
      "0    WINJ21\n",
      "1    WINJ21\n",
      "2     USIM5\n",
      "Name: symbol, dtype: object\n"
     ]
    },
    {
     "data": {
      "text/html": [
       "<div>\n",
       "<style scoped>\n",
       "    .dataframe tbody tr th:only-of-type {\n",
       "        vertical-align: middle;\n",
       "    }\n",
       "\n",
       "    .dataframe tbody tr th {\n",
       "        vertical-align: top;\n",
       "    }\n",
       "\n",
       "    .dataframe thead th {\n",
       "        text-align: right;\n",
       "    }\n",
       "</style>\n",
       "<table border=\"1\" class=\"dataframe\">\n",
       "  <thead>\n",
       "    <tr style=\"text-align: right;\">\n",
       "      <th></th>\n",
       "      <th>time</th>\n",
       "      <th>volume</th>\n",
       "      <th>profit</th>\n",
       "      <th>symbol</th>\n",
       "      <th>newProfit</th>\n",
       "      <th>amount</th>\n",
       "    </tr>\n",
       "    <tr>\n",
       "      <th>symbol</th>\n",
       "      <th></th>\n",
       "      <th></th>\n",
       "      <th></th>\n",
       "      <th></th>\n",
       "      <th></th>\n",
       "      <th></th>\n",
       "    </tr>\n",
       "  </thead>\n",
       "  <tbody>\n",
       "    <tr>\n",
       "      <th>USIM5</th>\n",
       "      <td>1</td>\n",
       "      <td>1</td>\n",
       "      <td>1</td>\n",
       "      <td>1</td>\n",
       "      <td>1</td>\n",
       "      <td>1</td>\n",
       "    </tr>\n",
       "    <tr>\n",
       "      <th>WINJ21</th>\n",
       "      <td>2</td>\n",
       "      <td>2</td>\n",
       "      <td>2</td>\n",
       "      <td>2</td>\n",
       "      <td>2</td>\n",
       "      <td>2</td>\n",
       "    </tr>\n",
       "  </tbody>\n",
       "</table>\n",
       "</div>"
      ],
      "text/plain": [
       "        time  volume  profit  symbol  newProfit  amount\n",
       "symbol                                                 \n",
       "USIM5      1       1       1       1          1       1\n",
       "WINJ21     2       2       2       2          2       2"
      ]
     },
     "execution_count": 33,
     "metadata": {},
     "output_type": "execute_result"
    }
   ],
   "source": [
    "dfg = df.groupby(groupSlice(df.symbol))\n",
    "\n",
    "dfg.count()"
   ]
  },
  {
   "cell_type": "markdown",
   "metadata": {},
   "source": [
    "Plota os dados"
   ]
  },
  {
   "cell_type": "code",
   "execution_count": 27,
   "metadata": {},
   "outputs": [
    {
     "data": {
      "image/png": "[encoded data removed]",
      "text/plain": [
       "<Figure size 432x288 with 1 Axes>"
      ]
     },
     "metadata": {
      "needs_background": "light"
     },
     "output_type": "display_data"
    },
    {
     "data": {
      "image/png": "[encoded data removed]",
      "text/plain": [
       "<Figure size 432x288 with 1 Axes>"
      ]
     },
     "metadata": {
      "needs_background": "light"
     },
     "output_type": "display_data"
    }
   ],
   "source": [
    "# iterage com cada item do grupo para personalizar o ylabel\n",
    "for name, group in dfg:    \n",
    "    group.plot(x='time', y='amount',ylabel=name, legend=False)\n",
    "\n",
    "plt.show()"
   ]
  },
  {
   "cell_type": "code",
   "execution_count": 14,
   "metadata": {},
   "outputs": [
    {
     "data": {
      "image/png": "[encoded data removed]",
      "text/plain": [
       "<Figure size 2160x720 with 1 Axes>"
      ]
     },
     "metadata": {
      "needs_background": "light"
     },
     "output_type": "display_data"
    }
   ],
   "source": [
    "# iterage com o grupo para exibir todas as curvas no mesmo gráfico\n",
    "fig, ax = plt.subplots(figsize=(30,10))\n",
    "for name, group in dfg:    \n",
    "    group.plot(x='time', y='amount', ax=ax, label=name)\n",
    "plt.show()"
   ]
  },
  {
   "cell_type": "code",
   "execution_count": null,
   "metadata": {},
   "outputs": [],
   "source": []
  }
 ],
 "metadata": {
  "kernelspec": {
   "display_name": "Python 3",
   "language": "python",
   "name": "python3"
  },
  "language_info": {
   "codemirror_mode": {
    "name": "ipython",
    "version": 3
   },
   "file_extension": ".py",
   "mimetype": "text/x-python",
   "name": "python",
   "nbconvert_exporter": "python",
   "pygments_lexer": "ipython3",
   "version": "3.8.5"
  }
 },
 "nbformat": 4,
 "nbformat_minor": 4
}
